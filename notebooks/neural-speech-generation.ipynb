{
 "cells": [
  {
   "attachments": {},
   "cell_type": "markdown",
   "metadata": {},
   "source": [
    "# Neural Speech Generation for Shakespeare Play"
   ]
  },
  {
   "cell_type": "code",
   "execution_count": 1,
   "metadata": {},
   "outputs": [],
   "source": [
    "%load_ext autoreload\n",
    "%autoreload 2\n",
    "\n",
    "from IPython.core.interactiveshell import InteractiveShell\n",
    "InteractiveShell.ast_node_interactivity = \"all\""
   ]
  },
  {
   "attachments": {},
   "cell_type": "markdown",
   "metadata": {},
   "source": [
    "## Set Up Environment"
   ]
  },
  {
   "cell_type": "code",
   "execution_count": 2,
   "metadata": {},
   "outputs": [
    {
     "data": {
      "text/plain": [
       "True"
      ]
     },
     "execution_count": 2,
     "metadata": {},
     "output_type": "execute_result"
    }
   ],
   "source": [
    "from dotenv import load_dotenv\n",
    "\n",
    "load_dotenv()"
   ]
  },
  {
   "attachments": {},
   "cell_type": "markdown",
   "metadata": {},
   "source": [
    "## Load Data"
   ]
  },
  {
   "cell_type": "code",
   "execution_count": 3,
   "metadata": {},
   "outputs": [],
   "source": [
    "fname = \"../data/The-Comedy-of-Errors.txt\"\n",
    "\n",
    "with open(fname) as f: \n",
    "    document = f.read()\n",
    "\n",
    "#print(document)"
   ]
  },
  {
   "attachments": {},
   "cell_type": "markdown",
   "metadata": {},
   "source": [
    "## Set Up Azure OpenAI"
   ]
  },
  {
   "cell_type": "code",
   "execution_count": 4,
   "metadata": {},
   "outputs": [],
   "source": [
    "import os\n",
    "import openai\n",
    "\n",
    "# Set up Azure OpenAI\n",
    "openai.api_type = \"azure\"\n",
    "openai.api_base = os.getenv(\"OPENAI_API_BASE\")\n",
    "openai.api_version = \"2023-03-15-preview\"\n",
    "openai.api_key = os.getenv(\"OPENAI_API_KEY\")"
   ]
  },
  {
   "attachments": {},
   "cell_type": "markdown",
   "metadata": {},
   "source": [
    "## Deploy a Model"
   ]
  },
  {
   "cell_type": "code",
   "execution_count": 5,
   "metadata": {},
   "outputs": [
    {
     "name": "stdout",
     "output_type": "stream",
     "text": [
      "{\n",
      "  \"capabilities\": {\n",
      "    \"chat_completion\": true,\n",
      "    \"completion\": false,\n",
      "    \"embeddings\": false,\n",
      "    \"fine_tune\": false,\n",
      "    \"inference\": true,\n",
      "    \"scale_types\": []\n",
      "  },\n",
      "  \"created_at\": 1679356800,\n",
      "  \"deprecation\": {\n",
      "    \"inference\": 1742515200\n",
      "  },\n",
      "  \"id\": \"gpt-4-32k\",\n",
      "  \"lifecycle_status\": \"generally-available\",\n",
      "  \"object\": \"model\",\n",
      "  \"status\": \"succeeded\",\n",
      "  \"updated_at\": 1679356800\n",
      "}\n",
      "Found a succeeded deployment of \"gpt-4-32k\" that supports text chat_completion with id: gpt-4-32k.\n"
     ]
    }
   ],
   "source": [
    "# id of desired_model\n",
    "desired_model = 'gpt-4-32k' \n",
    "desired_capability = 'chat_completion' # apply as completion, since gpt-4 is only released as chat in Azure OpenAI\n",
    "\n",
    "# list models deployed with\n",
    "deployment_id = None\n",
    "result = openai.Deployment.list()\n",
    "\n",
    "for deployment in result.data:\n",
    "    if deployment[\"status\"] != \"succeeded\":\n",
    "        continue\n",
    "    \n",
    "    model = openai.Model.retrieve(deployment[\"model\"])\n",
    "    print(model)\n",
    "    # check if desired_model is deployed, and if it has 'completion' capability\n",
    "    if model[\"id\"] == desired_model and model['capabilities'][desired_capability]:\n",
    "        deployment_id = deployment[\"id\"]\n",
    "        \n",
    "# if no model deployed, deploy one\n",
    "if not deployment_id:\n",
    "    print('No deployment with status: succeeded found.')\n",
    "\n",
    "    # Deploy the model\n",
    "    print(f'Creating a new deployment with model: {desired_model}')\n",
    "    result = openai.Deployment.create(model=desired_model, scale_settings={\"scale_type\":\"standard\"})\n",
    "    deployment_id = result[\"id\"]\n",
    "    print(f'Successfully created {desired_model} that supports text {desired_capability} with id: {deployment_id}.')\n",
    "else:\n",
    "    print(f'Found a succeeded deployment of \"{desired_model}\" that supports text {desired_capability} with id: {deployment_id}.')"
   ]
  },
  {
   "attachments": {},
   "cell_type": "markdown",
   "metadata": {},
   "source": [
    "## Identify Casts, Scenes, Acts, Dialogues, Synopsis with OpenAI"
   ]
  },
  {
   "attachments": {},
   "cell_type": "markdown",
   "metadata": {},
   "source": [
    "### Request API"
   ]
  },
  {
   "cell_type": "code",
   "execution_count": 6,
   "metadata": {},
   "outputs": [],
   "source": [
    "def request_api(messages, deployment_id):\n",
    "    response = openai.ChatCompletion.create(\n",
    "        engine = deployment_id,\n",
    "        messages = messages,\n",
    "        temperature=0,\n",
    "        max_tokens=2000,\n",
    "        top_p=0.95,\n",
    "        frequency_penalty=0,\n",
    "        presence_penalty=0,\n",
    "        stop='###')\n",
    "    return response"
   ]
  },
  {
   "attachments": {},
   "cell_type": "markdown",
   "metadata": {},
   "source": [
    "### Prompt Design"
   ]
  },
  {
   "cell_type": "code",
   "execution_count": 7,
   "metadata": {},
   "outputs": [],
   "source": [
    "content_system = \"You are an assistant role is to extract entities and their associated values from a Shakespeare's play, then convert the extracted entities into json format.\"\n",
    "\n",
    "example_user = \"\\nACT I\\nSCENE I. On a ship at sea: a tempestuous noise\\nof thunder and lightning heard.\\nEnter a Master and a Boatswain\\n\\nMASTER\\nBoatswain!\\n\\nBOATSWAIN\\nHere, master: what cheer?\\n\\nMASTER\\nGood, speak to the mariners: fall to't, yarely,\\nor we run ourselves aground: bestir, bestir.\\n\\nExit\\n\\nEnter Mariners\\n\\nBOATSWAIN\\nHeigh, my hearts! \\n\\nEnter ALONSO, SEBASTIAN, ANTONIO, FERDINAND, GONZALO, and others\\n\\nALONSO\\nGood boatswain, have care. Where's the master?\\n\\nBOATSWAIN\\nI pray now, keep below.\\n\\nANTONIO\\nWhere is the master, boatswain?\\n\\nExit\\n\\n\\nACT II\\n\\nSCENE I. Another part of the island.\\nEnter ALONSO, SEBASTIAN, ANTONIO, GONZALO, ADRIAN, FRANCISCO, and others\\n\\nGONZALO\\nBeseech you, sir, be merry; \\n\\nALONSO\\nPrithee, peace.\\n\\nSEBASTIAN\\nHe receives comfort like cold porridge.\\n\\nExit\\n\\nSCENE II. Another part of the island.\\nEnter CALIBAN with a burden of wood. A noise of thunder heard\\nCALIBAN\\nAll the infections that the sun sucks up\\nFrom bogs, fens, flats, on Prosper fall and make him\\nBy inch-meal a disease! \\n\\nEnter TRINCULO\\n\\nLo, now, lo!\\n\\nExuent\\n\\n###\\n\\nExtract the entities and values from the Shakespeare's script play above. Then, convert the entities and values into json format. \"\n",
    "\n",
    "example_assistant = \"{\\n  \\\"Act I\\\": {\\n    \\\"Scene I\\\": {\\n      \\\"Location\\\": \\\"On a ship at sea\\\",\\n      \\\"Setting\\\": \\\"A tempestuous noise of thunder and lightning heard\\\",\\n      \\\"Characters\\\": [\\n        \\\"Master\\\",\\n        \\\"Boatswain\\\",\\n        \\\"Mariners\\\",\\n        \\\"Alonso\\\",\\n        \\\"Sebastian\\\",\\n        \\\"Antonio\\\",\\n        \\\"Ferdinand\\\",\\n        \\\"Gonzalo\\\"\\n      ],\\n      \\\"Enter\\\": [\\n        \\\"Master\\\",\\n        \\\"Boatswain\\\"\\n      ],\\n      \\\"Dialogues\\\": [\\n        {\\n          \\\"Speaker\\\": \\\"Master\\\",\\n          \\\"Text\\\": \\\"Boatswain!\\\"\\n        },\\n        {\\n          \\\"Speaker\\\": \\\"Boatswain\\\",\\n          \\\"Text\\\": \\\"Here, master: what cheer?\\\"\\n        },\\n        {\\n          \\\"Speaker\\\": \\\"Master\\\",\\n          \\\"Text\\\": \\\"Good, speak to the mariners: fall to't, yarely, or we run ourselves aground: bestir, bestir.\\\"\\n        },\\n        {\\n          \\\"Speaker\\\": \\\"Boatswain\\\",\\n          \\\"Text\\\": \\\"Heigh, my hearts!\\\"\\n        },\\n        {\\n          \\\"Speaker\\\": \\\"Alonso\\\",\\n          \\\"Text\\\": \\\"Good boatswain, have care. Where's the master?\\\"\\n        },\\n        {\\n          \\\"Speaker\\\": \\\"Boatswain\\\",\\n          \\\"Text\\\": \\\"I pray now, keep below.\\\"\\n        },\\n        {\\n          \\\"Speaker\\\": \\\"Antonio\\\",\\n          \\\"Text\\\": \\\"Where is the master, boatswain?\\\"\\n        }\\n      ],\\n      \\\"Exit\\\": [\\n        \\\"Master\\\",\\n        \\\"Boatswain\\\"\\n      ]\\n    }\\n  },\\n  \\\"Act II\\\": {\\n    \\\"Scene I\\\": {\\n      \\\"Location\\\": \\\"Another part of the island\\\",\\n      \\\"Characters\\\": [\\n        \\\"Alonso\\\",\\n        \\\"Sebastian\\\",\\n        \\\"Antonio\\\",\\n        \\\"Gonzalo\\\",\\n        \\\"Adrian\\\",\\n        \\\"Francisco\\\"\\n      ],\\n      \\\"Enter\\\": [\\n        \\\"ALONSO\\\",\\n        \\\"SEBASTIAN\\\",\\n        \\\"ANTONIO\\\",\\n        \\\"GONZALO\\\",\\n        \\\"ADRIAN\\\",\\n        \\\"FRANCISCO\\\",\\n        \\\"others\\\"\\n      ],\\n      \\\"Dialogues\\\": [\\n        {\\n          \\\"Speaker\\\": \\\"Gonzalo\\\",\\n          \\\"Text\\\": \\\"Beseech you, sir, be merry;\\\"\\n        },\\n        {\\n          \\\"Speaker\\\": \\\"Alonso\\\",\\n          \\\"Text\\\": \\\"Prithee, peace.\\\"\\n        },\\n        {\\n          \\\"Speaker\\\": \\\"Sebastian\\\",\\n          \\\"Text\\\": \\\"He receives comfort like cold porridge.\\\"\\n        }\\n      ],\\n      \\\"Exit\\\": [\\n        \\\"ALONSO\\\",\\n        \\\"SEBASTIAN\\\",\\n        \\\"ANTONIO\\\",\\n        \\\"GONZALO\\\",\\n        \\\"ADRIAN\\\",\\n        \\\"FRANCISCO\\\",\\n        \\\"others\\\"\\n      ]\\n    },\\n    \\\"Scene II\\\": {\\n      \\\"Location\\\": \\\"Another part of the island\\\",\\n      \\\"Setting\\\": \\\"A noise of thunder heard\\\",\\n      \\\"Characters\\\": [\\n        \\\"Caliban\\\",\\n        \\\"Trinculo\\\"\\n      ],\\n      \\\"Enter\\\": [\\n        \\\"Caliban with a burden of wood\\\",\\n        \\\"Trinculo\\\"\\n      ],\\n      \\\"Dialogues\\\": [\\n        {\\n          \\\"Speaker\\\": \\\"Caliban\\\",\\n          \\\"Text\\\": \\\"All the infections that the sun sucks up From bogs, fens, flats, on Prosper fall and make him By inch-meal a disease!\\\"\\n        },\\n        {\\n          \\\"Speaker\\\": \\\"Caliban\\\",\\n          \\\"Text\\\": \\\"Lo, now, lo!\\\"\\n        }\\n      ],\\n      \\\"Exit\\\": [\\n        \\\"Caliban\\\",\\n        \\\"Trinculo\\\"\\n      ]\\n    }\\n  }\\n}\""
   ]
  },
  {
   "attachments": {},
   "cell_type": "markdown",
   "metadata": {},
   "source": [
    "### Get Structured Data"
   ]
  },
  {
   "cell_type": "code",
   "execution_count": 8,
   "metadata": {},
   "outputs": [],
   "source": [
    "def get_structured_data(document, prompt_postfix, content_system, example_user, example_assistant, deployment_id):\n",
    "    content = prompt_postfix.replace('<document>', document)\n",
    "    messages = [{\"role\":\"system\",\"content\":content_system},\n",
    "                {\"role\":\"user\", \"content\":example_user},\n",
    "                {\"role\":\"assistant\", \"content\":example_assistant},\n",
    "                {\"role\":\"user\", \"content\":content}]; #print(messages)\n",
    "\n",
    "    structured_data = request_api(messages, deployment_id)\n",
    "    return structured_data"
   ]
  },
  {
   "cell_type": "code",
   "execution_count": null,
   "metadata": {},
   "outputs": [],
   "source": [
    "# Prompt postfix\n",
    "prompt_postfix = \"\"\" <document>\n",
    "  \\n###\n",
    "  \\nExtract the entities and values from the Shakespeare's script play above. Then, convert the entities and values into json format. \n",
    "\"\"\"\n",
    "#print(prompt_postfix)\n",
    "\n",
    "structured_data = get_structured_data(document, prompt_postfix, content_system, example_user, example_assistant, deployment_id)"
   ]
  },
  {
   "cell_type": "code",
   "execution_count": null,
   "metadata": {},
   "outputs": [],
   "source": [
    "print(structured_data['choices'][0]['message']['content'])"
   ]
  },
  {
   "attachments": {},
   "cell_type": "markdown",
   "metadata": {},
   "source": [
    "## Generate Neural Speech"
   ]
  },
  {
   "cell_type": "code",
   "execution_count": null,
   "metadata": {},
   "outputs": [],
   "source": [
    "import os\n",
    "import azure.cognitiveservices.speech as speechsdk\n",
    "\n",
    "speech_config = speechsdk.SpeechConfig(subscription=os.getenv('SPEECH_KEY'), region=os.getenv('SPEECH_REGION'))\n",
    "speech_synthesizer = speechsdk.SpeechSynthesizer(speech_config=speech_config)\n",
    "\n",
    "# Text to synthesise \n",
    "text = \"Hey, how are you?\"\n",
    "\n",
    "# Synthesise speech\n",
    "result = speech_synthesizer.speak_text_async(text).get()"
   ]
  },
  {
   "cell_type": "code",
   "execution_count": null,
   "metadata": {},
   "outputs": [],
   "source": [
    "def speech_synthesis_to_mp3_file():\n",
    "    \"\"\"performs speech synthesis to a mp3 file\"\"\"\n",
    "    # Creates an instance of a speech config with specified subscription key and service region.\n",
    "    speech_config = speechsdk.SpeechConfig(subscription=os.getenv('SPEECH_KEY'), region=os.getenv('SPEECH_REGION'))\n",
    "    \n",
    "    # Sets the synthesis output format.\n",
    "    # The full list of supported format can be found here:\n",
    "    # https://docs.microsoft.com/azure/cognitive-services/speech-service/rest-text-to-speech#audio-outputs\n",
    "    speech_config.set_speech_synthesis_output_format(speechsdk.SpeechSynthesisOutputFormat.Audio16Khz32KBitRateMonoMp3)\n",
    "    \n",
    "    # Creates a speech synthesizer using file as audio output.\n",
    "    # Replace with your own audio file name.\n",
    "    file_name = \"outputaudio.mp3\"\n",
    "    file_config = speechsdk.audio.AudioOutputConfig(filename=file_name)\n",
    "\n",
    "    # Sets the synthesis voice name.\n",
    "    voice = \"Microsoft Server Speech Text to Speech Voice (en-US, JennyNeural)\"  <--- update this\n",
    "    speech_config.speech_synthesis_voice_name = voice\n",
    "\n",
    "    speech_synthesizer = speechsdk.SpeechSynthesizer(speech_config=speech_config, audio_config=file_config)\n",
    "\n",
    "    try:\n",
    "        #text = input()\n",
    "        text = \"Proceed, Solinus, to procure my fall, And by the doom of death end woes and all.\"\n",
    "    except EOFError as e:\n",
    "        print(e)\n",
    "        exit()\n",
    "        \n",
    "    result = speech_synthesizer.speak_text_async(text).get()\n",
    "    # Check result\n",
    "    if result.reason == speechsdk.ResultReason.SynthesizingAudioCompleted:\n",
    "        print(\"Speech synthesized for text [{}], and the audio was saved to [{}]\".format(text, file_name))\n",
    "    elif result.reason == speechsdk.ResultReason.Canceled:\n",
    "        cancellation_details = result.cancellation_details\n",
    "        print(\"Speech synthesis canceled: {}\".format(cancellation_details.reason))\n",
    "        if cancellation_details.reason == speechsdk.CancellationReason.Error:\n",
    "            print(\"Error details: {}\".format(cancellation_details.error_details))"
   ]
  },
  {
   "cell_type": "code",
   "execution_count": null,
   "metadata": {},
   "outputs": [
    {
     "name": "stdout",
     "output_type": "stream",
     "text": [
      "Speech synthesized for text [Proceed, Solinus, to procure my fall, And by the doom of death end woes and all.], and the audio was saved to [outputaudio.mp3]\n"
     ]
    }
   ],
   "source": [
    "speech_synthesis_to_mp3_file()"
   ]
  },
  {
   "cell_type": "code",
   "execution_count": null,
   "metadata": {},
   "outputs": [],
   "source": []
  }
 ],
 "metadata": {
  "kernelspec": {
   "display_name": "azureml_py38",
   "language": "python",
   "name": "python3"
  },
  "language_info": {
   "codemirror_mode": {
    "name": "ipython",
    "version": 3
   },
   "file_extension": ".py",
   "mimetype": "text/x-python",
   "name": "python",
   "nbconvert_exporter": "python",
   "pygments_lexer": "ipython3",
   "version": "3.8.5"
  },
  "orig_nbformat": 4,
  "vscode": {
   "interpreter": {
    "hash": "6d65a8c07f5b6469e0fc613f182488c0dccce05038bbda39e5ac9075c0454d11"
   }
  }
 },
 "nbformat": 4,
 "nbformat_minor": 2
}
